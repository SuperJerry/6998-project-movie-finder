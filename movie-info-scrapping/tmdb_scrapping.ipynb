{
 "cells": [
  {
   "cell_type": "markdown",
   "metadata": {},
   "source": [
    "### Part 1. Scrapping movie and actor data from TMDB API"
   ]
  },
  {
   "cell_type": "code",
   "execution_count": 1,
   "metadata": {},
   "outputs": [],
   "source": [
    "import requests\n",
    "import json\n",
    "from datetime import datetime\n",
    "import csv"
   ]
  },
  {
   "cell_type": "code",
   "execution_count": 2,
   "metadata": {},
   "outputs": [
    {
     "name": "stdout",
     "output_type": "stream",
     "text": [
      "['Jumanji: Welcome to the Jungle', 'Alice in Wonderland', 'The Croods', \"Ocean's Eleven\", \"The Sorcerer's Apprentice\", 'Passengers', 'I Am Legend', 'Pirates of the Caribbean: The Curse of the Black Pearl', 'Furious 7', 'The Iron Giant', 'The Matrix', 'Lara Croft: Tomb Raider', 'The Da Vinci Code', 'Suicide Squad', 'Horrible Bosses', 'Ghost Rider', 'Django Unchained', 'Inglourious Basterds', 'Her', 'Once Upon a Time… in Hollywood', 'Star Wars: Episode I - The Phantom Menace', 'National Treasure', 'War of the Worlds', 'Men in Black', 'Greyhound', 'Marriage Story', 'Bruce Almighty', 'Edward Scissorhands', 'Ghost World', 'The Perks of Being a Wallflower', \"We're the Millers\", 'The Amazing Spider-Man', 'The Pursuit of Happyness', 'Red Notice', 'The Bling Ring', 'Looper', 'The Departed', 'Se7en', 'The Green Mile', 'Kick-Ass', 'John Wick', 'Léon: The Professional', 'World War Z', 'Unbreakable', 'Mission: Impossible - Ghost Protocol', 'Just Go with It', 'Oblivion', 'The Hunger Games', 'Marley & Me', 'Mission: Impossible', 'Maleficent', 'Interstellar', 'Fury', 'Charlie and the Chocolate Factory', 'The Curious Case of Benjamin Button', 'The Martian', 'Constantine', 'The Avengers', 'Good Will Hunting', 'Baywatch', 'Birdman or (The Unexpected Virtue of Ignorance)', 'Black Swan', 'Knowing', 'Wanted', 'Glass', 'Minority Report', 'Forrest Gump', 'Mission: Impossible - Rogue Nation', 'Mr. & Mrs. Smith', 'The Fifth Element', 'Aladdin', 'Fight Club', 'San Andreas', 'Edge of Tomorrow', \"Harry Potter and the Philosopher's Stone\", 'Pulp Fiction', 'La La Land', 'Fast & Furious 6', 'Crazy, Stupid, Love.', 'V for Vendetta', 'Iron Man', 'I, Robot', 'Fantastic Beasts and Where to Find Them', 'Die Hard', 'The Sixth Sense', 'Saving Private Ryan', 'Beauty and the Beast', 'Catch Me If You Can', 'Friends with Benefits', 'Lost in Translation']\n",
      "90\n"
     ]
    }
   ],
   "source": [
    "# movie list\n",
    "with open('movie_list.txt', encoding='utf8') as file:\n",
    "    lines = file.readlines()\n",
    "movie_list = [l.strip() for l in lines]\n",
    "movie_list = list(set(movie_list))\n",
    "print(movie_list)\n",
    "print(len(movie_list))"
   ]
  },
  {
   "cell_type": "code",
   "execution_count": 3,
   "metadata": {
    "scrolled": false
   },
   "outputs": [
    {
     "name": "stdout",
     "output_type": "stream",
     "text": [
      "287\n",
      "Brad Pitt\n",
      "Mr. & Mrs. Smith\n",
      "The Curious Case of Benjamin Button\n",
      "World War Z\n",
      "Fury\n",
      "Inglourious Basterds\n",
      "Ocean's Eleven\n",
      "Fight Club\n",
      "Se7en\n",
      "Once Upon a Time… in Hollywood\n",
      "2231\n",
      "Samuel L. Jackson\n",
      "Pulp Fiction\n",
      "Unbreakable\n",
      "Glass\n",
      "Django Unchained\n",
      "The Avengers\n",
      "Star Wars: Episode I - The Phantom Menace\n",
      "Inglourious Basterds\n",
      "Iron Man\n",
      "31\n",
      "Tom Hanks\n",
      "Forrest Gump\n",
      "The Da Vinci Code\n",
      "The Green Mile\n",
      "Saving Private Ryan\n",
      "Greyhound\n",
      "Catch Me If You Can\n",
      "500\n",
      "Tom Cruise\n",
      "War of the Worlds\n",
      "Minority Report\n",
      "Mission: Impossible\n",
      "Mission: Impossible - Ghost Protocol\n",
      "Oblivion\n",
      "Mission: Impossible - Rogue Nation\n",
      "Edge of Tomorrow\n",
      "85\n",
      "Johnny Depp\n",
      "Charlie and the Chocolate Factory\n",
      "Edward Scissorhands\n",
      "Pirates of the Caribbean: The Curse of the Black Pearl\n",
      "Alice in Wonderland\n",
      "Fantastic Beasts and Where to Find Them\n",
      "2888\n",
      "Will Smith\n",
      "The Pursuit of Happyness\n",
      "I, Robot\n",
      "I Am Legend\n",
      "Suicide Squad\n",
      "Men in Black\n",
      "Aladdin\n",
      "18918\n",
      "Dwayne Johnson\n",
      "Baywatch\n",
      "San Andreas\n",
      "Jumanji: Welcome to the Jungle\n",
      "Red Notice\n",
      "Fast & Furious 6\n",
      "Furious 7\n",
      "1892\n",
      "Matt Damon\n",
      "Good Will Hunting\n",
      "The Martian\n",
      "Ocean's Eleven\n",
      "The Departed\n",
      "Saving Private Ryan\n",
      "Interstellar\n",
      "62\n",
      "Bruce Willis\n",
      "The Fifth Element\n",
      "Die Hard\n",
      "The Sixth Sense\n",
      "Unbreakable\n",
      "Looper\n",
      "Glass\n",
      "Pulp Fiction\n",
      "2963\n",
      "Nicolas Cage\n",
      "Ghost Rider\n",
      "National Treasure\n",
      "The Sorcerer's Apprentice\n",
      "Knowing\n",
      "The Croods\n",
      "Kick-Ass\n",
      "6384\n",
      "Keanu Reeves\n",
      "Constantine\n",
      "John Wick\n",
      "The Matrix\n",
      "1245\n",
      "Scarlett Johansson\n",
      "Lost in Translation\n",
      "Her\n",
      "Marriage Story\n",
      "Ghost World\n",
      "The Avengers\n",
      "4491\n",
      "Jennifer Aniston\n",
      "We're the Millers\n",
      "The Iron Giant\n",
      "Marley & Me\n",
      "Just Go with It\n",
      "Bruce Almighty\n",
      "Horrible Bosses\n",
      "11701\n",
      "Angelina Jolie\n",
      "Lara Croft: Tomb Raider\n",
      "Maleficent\n",
      "Mr. & Mrs. Smith\n",
      "Wanted\n",
      "10990\n",
      "Emma Watson\n",
      "Beauty and the Beast\n",
      "The Perks of Being a Wallflower\n",
      "The Bling Ring\n",
      "Harry Potter and the Philosopher's Stone\n",
      "72129\n",
      "Jennifer Lawrence\n",
      "The Hunger Games\n",
      "Passengers\n",
      "54693\n",
      "Emma Stone\n",
      "The Amazing Spider-Man\n",
      "Birdman or (The Unexpected Virtue of Ignorance)\n",
      "La La Land\n",
      "The Croods\n",
      "Crazy, Stupid, Love.\n",
      "Friends with Benefits\n",
      "524\n",
      "Natalie Portman\n",
      "V for Vendetta\n",
      "Black Swan\n",
      "Léon: The Professional\n",
      "Star Wars: Episode I - The Phantom Menace\n",
      "100\n"
     ]
    }
   ],
   "source": [
    "# actor list\n",
    "actor_list = [\"Brad Pitt\", \"Samuel L. Jackson\", \"Tom Hanks\", \"Tom Cruise\", \"Johnny Depp\", \"Will Smith\", \"Dwayne Johnson\",\n",
    "              \"Matt Damon\", \"Bruce Willis\", \"Nicolas Cage\", \"Keanu Reeves\", \"Scarlett Johansson\", \"Jennifer Aniston\", \n",
    "              \"Angelina Jolie\", \"Emma Watson\", \"Jennifer Lawrence\", \"Emma Stone\", \"Natalie Portman\"]\n",
    "\n",
    "search_people_dir = \"https://api.themoviedb.org/3/search/person?query=\"\n",
    "get_people_dir = \"https://api.themoviedb.org/3/person/\"\n",
    "api_dir = \"api_key=******************************&language=en-US\"\n",
    "\n",
    "# scrap actor info\n",
    "count = 0\n",
    "actor_info = []\n",
    "movie_ids = []\n",
    "for actor in actor_list:\n",
    "    search_dir = search_people_dir + actor + \"&\" + api_dir\n",
    "    response1 = requests.get(search_dir).json()\n",
    "    print(response1['results'][0]['id'])\n",
    "    get_dir = get_people_dir + str(response1['results'][0]['id']) + \"?\" + api_dir\n",
    "    response2 = requests.get(get_dir).json()\n",
    "    response2['actor_id'] = response2['id']\n",
    "    response2.pop('also_known_as', None)\n",
    "    response2['features'] = []\n",
    "    print(response2['name'])\n",
    "    get_credit_dir = get_people_dir + str(response1['results'][0]['id']) + \"/movie_credits?\" + api_dir\n",
    "    response3 = requests.get(get_credit_dir).json()\n",
    "    for m in response3['cast']:\n",
    "        if m['title'] in movie_list:\n",
    "            print(m['title'])\n",
    "            if m['id'] not in movie_ids:\n",
    "                movie_ids.append(m['id'])\n",
    "            response2['features'].append({'title': m['title'], 'character': m['character'], 'movie_id': m['id']})\n",
    "            count += 1\n",
    "    actor_info.append(response2)\n",
    "print(count)"
   ]
  },
  {
   "cell_type": "code",
   "execution_count": 4,
   "metadata": {},
   "outputs": [
    {
     "name": "stdout",
     "output_type": "stream",
     "text": [
      "90\n"
     ]
    }
   ],
   "source": [
    "# scrap movie info\n",
    "get_movie_dir = \"https://api.themoviedb.org/3/movie/\"\n",
    "movie_info = []\n",
    "for mid in movie_ids:\n",
    "    get_dir = get_movie_dir + str(mid) + \"?\" + api_dir\n",
    "    response = requests.get(get_dir).json()\n",
    "    response['movie_id'] = response['id']\n",
    "    movie_info.append(response)\n",
    "print(len(movie_info))"
   ]
  },
  {
   "cell_type": "code",
   "execution_count": 5,
   "metadata": {},
   "outputs": [
    {
     "name": "stdout",
     "output_type": "stream",
     "text": [
      "{'adult': False, 'biography': \"William Bradley Pitt is an American actor and film producer. He has received multiple awards, including two Golden Globe Awards and an Academy Award for his acting, in addition to another Academy Award and a Primetime Emmy Award as producer under his production company, Plan B Entertainment.\\n\\nPitt first gained recognition as a cowboy hitchhiker in the road movie Thelma & Louise (1991). His first leading roles in big-budget productions came with the drama films A River Runs Through It (1992) and Legends of the Fall (1994), and the horror film Interview with the Vampire (1994). He gave critically acclaimed performances in the crime thriller Seven (1995) and the science fiction film 12 Monkeys (1995), the latter earning him a Golden Globe Award for Best Supporting Actor and an Academy Award nomination.\\n\\nHe starred in Fight Club (1999) and the heist film Ocean's Eleven (2001), as well as its sequels, Ocean's Twelve (2004) and Ocean's Thirteen (2007). His greatest commercial successes have been Ocean's Eleven (2001), Troy (2004), Mr. & Mrs. Smith (2005), World War Z (2013), and Once Upon a Time in Hollywood (2019), for which he won a second Golden Globe Award and the Academy Award for Best Supporting Actor. Pitt's other Academy Award nominated performances were in The Curious Case of Benjamin Button (2008) and Moneyball (2011). He produced The Departed (2006) and 12 Years a Slave (2013), both of which won the Academy Award for Best Picture, and also The Tree of Life (2011), Moneyball (2011), and The Big Short (2015), all of which were nominated for Best Picture.\\n\\nAs a public figure, Pitt has been cited as one of the most influential and powerful people in the American entertainment industry. For a number of years, he was cited as the world's most attractive man by various media outlets, and his personal life is the subject of wide publicity. From 2000 to 2005, he was married to the actress Jennifer Aniston, and from 2014 to 2019, he was married to the actress Angelina Jolie. Pitt and Jolie have six children together, three of whom were adopted internationally.\", 'birthday': '1963-12-18', 'deathday': None, 'gender': 2, 'homepage': None, 'id': 287, 'imdb_id': 'nm0000093', 'known_for_department': 'Acting', 'name': 'Brad Pitt', 'place_of_birth': 'Shawnee, Oklahoma, USA', 'popularity': 15.128, 'profile_path': '/hfkzP7YstXRsj2IM1a8lLz8bvst.jpg', 'actor_id': 287, 'features': [{'title': 'Mr. & Mrs. Smith', 'character': 'John Smith', 'movie_id': 787}, {'title': 'The Curious Case of Benjamin Button', 'character': 'Benjamin Button', 'movie_id': 4922}, {'title': 'World War Z', 'character': 'Gerry Lane', 'movie_id': 72190}, {'title': 'Fury', 'character': \"Don 'Wardaddy' Collier\", 'movie_id': 228150}, {'title': 'Inglourious Basterds', 'character': 'First Lieutenant Aldo \"The Apache\" Raine', 'movie_id': 16869}, {'title': \"Ocean's Eleven\", 'character': 'Rusty Ryan', 'movie_id': 161}, {'title': 'Fight Club', 'character': 'Tyler Durden', 'movie_id': 550}, {'title': 'Se7en', 'character': 'Detective David Mills', 'movie_id': 807}, {'title': 'Once Upon a Time… in Hollywood', 'character': 'Cliff Booth', 'movie_id': 466272}]}\n",
      "\n",
      "{'adult': False, 'backdrop_path': '/2YJOXPl4QtCskixYA58ToyCXEW0.jpg', 'belongs_to_collection': None, 'budget': 110000000, 'genres': [{'id': 28, 'name': 'Action'}, {'id': 35, 'name': 'Comedy'}, {'id': 18, 'name': 'Drama'}, {'id': 53, 'name': 'Thriller'}], 'homepage': '', 'id': 787, 'imdb_id': 'tt0356910', 'original_language': 'en', 'original_title': 'Mr. & Mrs. Smith', 'overview': \"After five (or six) years of vanilla-wedded bliss, ordinary suburbanites John and Jane Smith are stuck in a huge rut. Unbeknownst to each other, they are both coolly lethal, highly-paid assassins working for rival organisations. When they discover they're each other's next target, their secret lives collide in a spicy, explosive mix of wicked comedy, pent-up passion, nonstop action and high-tech weaponry.\", 'popularity': 27.728, 'poster_path': '/wzIO3ytxeSNt1wRpXLIdkNbGoDm.jpg', 'production_companies': [{'id': 1171, 'logo_path': None, 'name': 'Epsilon Motion Pictures', 'origin_country': 'CH'}, {'id': 433, 'logo_path': None, 'name': 'Weed Road Pictures', 'origin_country': 'US'}, {'id': 508, 'logo_path': '/7PzJdsLGlR7oW4J0J5Xcd0pHGRg.png', 'name': 'Regency Enterprises', 'origin_country': 'US'}, {'id': 10104, 'logo_path': '/hNuGhsKVlmhnwSRcmOejDBDjh6w.png', 'name': 'New Regency Pictures', 'origin_country': 'US'}, {'id': 491, 'logo_path': '/rUp0lLKa1pr4UsPm8fgzmnNGxtq.png', 'name': 'Summit Entertainment', 'origin_country': 'US'}], 'production_countries': [{'iso_3166_1': 'US', 'name': 'United States of America'}], 'release_date': '2005-06-07', 'revenue': 478207520, 'runtime': 120, 'spoken_languages': [{'english_name': 'English', 'iso_639_1': 'en', 'name': 'English'}, {'english_name': 'Spanish', 'iso_639_1': 'es', 'name': 'Español'}], 'status': 'Released', 'tagline': 'Smart and sexy', 'title': 'Mr. & Mrs. Smith', 'video': False, 'vote_average': 6.7, 'vote_count': 8206, 'movie_id': 787}\n"
     ]
    }
   ],
   "source": [
    "#actor and movie example data\n",
    "print(actor_info[0])\n",
    "print()\n",
    "print(movie_info[0])"
   ]
  },
  {
   "cell_type": "code",
   "execution_count": 18,
   "metadata": {},
   "outputs": [
    {
     "data": {
      "text/plain": [
       "['Action', 'Comedy', 'Drama', 'Thriller']"
      ]
     },
     "execution_count": 18,
     "metadata": {},
     "output_type": "execute_result"
    }
   ],
   "source": [
    "# movie genre dict\n",
    "genre_dict = {}\n",
    "for movie in movie_info:\n",
    "    genre_l = []\n",
    "    for g in movie['genres']:\n",
    "        genre_l.append(g['name'])\n",
    "    genre_dict[movie['id']] = genre_l\n",
    "genre_dict[787]"
   ]
  },
  {
   "cell_type": "markdown",
   "metadata": {},
   "source": [
    "### Part 2. Load Data into DynamoDB Table"
   ]
  },
  {
   "cell_type": "code",
   "execution_count": 6,
   "metadata": {},
   "outputs": [],
   "source": [
    "import boto3\n",
    "from boto3.dynamodb.conditions import Key\n",
    "import time\n",
    "from decimal import Decimal"
   ]
  },
  {
   "cell_type": "code",
   "execution_count": 7,
   "metadata": {},
   "outputs": [
    {
     "data": {
      "text/plain": [
       "[dynamodb.Table(name='actors'),\n",
       " dynamodb.Table(name='movies'),\n",
       " dynamodb.Table(name='yelp-restaurants')]"
      ]
     },
     "execution_count": 7,
     "metadata": {},
     "output_type": "execute_result"
    }
   ],
   "source": [
    "# get DynamoDB resource\n",
    "# I work this code in local, so I need access key and secret key\n",
    "# sorry, I can't put this information in the submitted code\n",
    "dynamodb = boto3.resource('dynamodb', aws_access_key_id='********', \n",
    "                          aws_secret_access_key='********',\n",
    "                          region_name=\"us-west-2\")\n",
    "list(dynamodb.tables.all())"
   ]
  },
  {
   "cell_type": "code",
   "execution_count": 8,
   "metadata": {},
   "outputs": [],
   "source": [
    "# put data to actor table in DynamoDB\n",
    "actor_table = dynamodb.Table('actors')\n",
    "\n",
    "for actor in actor_info:\n",
    "    ddb_data = json.loads(json.dumps(actor), parse_float=Decimal)\n",
    "\n",
    "    actor_table.put_item(\n",
    "        Item=ddb_data\n",
    "    )"
   ]
  },
  {
   "cell_type": "code",
   "execution_count": 9,
   "metadata": {},
   "outputs": [
    {
     "name": "stdout",
     "output_type": "stream",
     "text": [
      "{'deathday': None, 'adult': False, 'actor_id': Decimal('6384'), 'profile_path': '/rRdru6REr9i3WIHv2mntpcgxnoY.jpg', 'imdb_id': 'nm0000206', 'place_of_birth': 'Beirut, Lebanon', 'name': 'Keanu Reeves', 'gender': Decimal('2'), 'features': [{'title': 'Constantine', 'movie_id': Decimal('561'), 'character': 'John Constantine'}, {'title': 'John Wick', 'movie_id': Decimal('245891'), 'character': 'Jonathan \"John\" Wick'}, {'title': 'The Matrix', 'movie_id': Decimal('603'), 'character': 'Thomas A. Anderson / Neo'}], 'biography': 'Keanu Charles Reeves is a Canadian actor. Reeves is known for his roles in Bill & Ted\\'s Excellent Adventure, Speed, Point Break, and The Matrix trilogy as Neo. He has collaborated with major directors such as Stephen Frears (in the 1988 period drama Dangerous Liaisons); Gus Van Sant (in the 1991 independent film My Own Private Idaho); and Bernardo Bertolucci (in the 1993 film Little Buddha). Referring to his 1991 film releases, The New York Times\\' critic, Janet Maslin, praised Reeves\\' versatility, saying that he \"displays considerable discipline and range. He moves easily between the buttoned-down demeanor that suits a police procedural story and the loose-jointed manner of his comic roles.\" A repeated theme in roles he has portrayed is that of saving the world, including the characters of Ted Logan, Buddha, Neo, Johnny Mnemonic, John Constantine and Klaatu.', 'popularity': Decimal('37.954'), 'homepage': None, 'id': Decimal('6384'), 'birthday': '1964-09-02', 'known_for_department': 'Acting'}\n"
     ]
    }
   ],
   "source": [
    "# try a potential query code\n",
    "response = actor_table.query(\n",
    "    KeyConditionExpression=Key('actor_id').eq(6384)\n",
    ")\n",
    "print(response['Items'][0])"
   ]
  },
  {
   "cell_type": "code",
   "execution_count": 10,
   "metadata": {},
   "outputs": [
    {
     "data": {
      "text/plain": [
       "'Keanu Reeves'"
      ]
     },
     "execution_count": 10,
     "metadata": {},
     "output_type": "execute_result"
    }
   ],
   "source": [
    "result = actor_table.get_item(Key={'actor_id': 6384})['Item']\n",
    "result['name']"
   ]
  },
  {
   "cell_type": "code",
   "execution_count": 11,
   "metadata": {},
   "outputs": [],
   "source": [
    "# put data to movie table in DynamoDB\n",
    "movie_table = dynamodb.Table('movies')\n",
    "\n",
    "for movie in movie_info:\n",
    "    ddb_data = json.loads(json.dumps(movie), parse_float=Decimal)\n",
    "\n",
    "    movie_table.put_item(\n",
    "        Item=ddb_data\n",
    "    )"
   ]
  },
  {
   "cell_type": "code",
   "execution_count": 12,
   "metadata": {},
   "outputs": [
    {
     "name": "stdout",
     "output_type": "stream",
     "text": [
      "{'movie_id': Decimal('954'), 'original_title': 'Mission: Impossible', 'belongs_to_collection': {'name': 'Mission: Impossible Collection', 'backdrop_path': '/jYl0UuJFcmhymv9ZNO14lPLDY1Z.jpg', 'id': Decimal('87359'), 'poster_path': '/geEjCGfdmRAA1skBPwojcdvnZ8A.jpg'}, 'budget': Decimal('80000000'), 'spoken_languages': [{'name': 'English', 'iso_639_1': 'en', 'english_name': 'English'}, {'name': 'Français', 'iso_639_1': 'fr', 'english_name': 'French'}, {'name': 'Český', 'iso_639_1': 'cs', 'english_name': 'Czech'}], 'status': 'Released', 'imdb_id': 'tt0117060', 'vote_average': Decimal('6.9'), 'backdrop_path': '/pbaAkR1FDvgndTVFgGRIzf9o49r.jpg', 'revenue': Decimal('457731198'), 'id': Decimal('954'), 'poster_path': '/lirMXnE7NoVLDr3qeqf48fR1mk4.jpg', 'production_countries': [{'iso_3166_1': 'US', 'name': 'United States of America'}], 'adult': False, 'runtime': Decimal('110'), 'overview': \"When Ethan Hunt, the leader of a crack espionage team whose perilous operation has gone awry with no explanation, discovers that a mole has penetrated the CIA, he's surprised to learn that he's the No. 1 suspect. To clear his name, Hunt now must ferret out the real double agent and, in the process, even the score.\", 'production_companies': [{'name': 'Paramount', 'id': Decimal('4'), 'logo_path': '/fycMZt242LVjagMByZOLUGbCvv3.png', 'origin_country': 'US'}, {'name': 'Cruise/Wagner Productions', 'id': Decimal('44'), 'logo_path': None, 'origin_country': ''}], 'popularity': Decimal('38.271'), 'release_date': '1996-05-22', 'original_language': 'en', 'tagline': 'Expect the Impossible.', 'vote_count': Decimal('6735'), 'homepage': 'http://www.missionimpossible.com/', 'genres': [{'name': 'Adventure', 'id': Decimal('12')}, {'name': 'Action', 'id': Decimal('28')}, {'name': 'Thriller', 'id': Decimal('53')}], 'video': False, 'title': 'Mission: Impossible'}\n"
     ]
    }
   ],
   "source": [
    "# try a potential query code\n",
    "response = movie_table.query(\n",
    "    KeyConditionExpression=Key('movie_id').eq(954)\n",
    ")\n",
    "print(response['Items'][0])"
   ]
  },
  {
   "cell_type": "markdown",
   "metadata": {},
   "source": [
    "### Part 3. Format Data and Upload to OpenSearch"
   ]
  },
  {
   "cell_type": "code",
   "execution_count": 13,
   "metadata": {},
   "outputs": [],
   "source": [
    "from opensearchpy import OpenSearch, RequestsHttpConnection\n",
    "from requests.auth import HTTPBasicAuth"
   ]
  },
  {
   "cell_type": "code",
   "execution_count": 19,
   "metadata": {
    "scrolled": true
   },
   "outputs": [
    {
     "name": "stdout",
     "output_type": "stream",
     "text": [
      "{\"_index\":\"movies\",\"_type\":\"_doc\",\"_id\":\"eZsj2n0BoAqYEq1IMmr8\",\"_version\":1,\"result\":\"created\",\"_shards\":{\"total\":2,\"successful\":1,\"failed\":0},\"_seq_no\":0,\"_primary_term\":1}\n",
      "{\"_index\":\"movies\",\"_type\":\"_doc\",\"_id\":\"epsj2n0BoAqYEq1IN2oB\",\"_version\":1,\"result\":\"created\",\"_shards\":{\"total\":2,\"successful\":1,\"failed\":0},\"_seq_no\":0,\"_primary_term\":1}\n",
      "{\"_index\":\"movies\",\"_type\":\"_doc\",\"_id\":\"e5sj2n0BoAqYEq1IOGow\",\"_version\":1,\"result\":\"created\",\"_shards\":{\"total\":2,\"successful\":1,\"failed\":0},\"_seq_no\":0,\"_primary_term\":1}\n",
      "{\"_index\":\"movies\",\"_type\":\"_doc\",\"_id\":\"fJsj2n0BoAqYEq1IOWp1\",\"_version\":1,\"result\":\"created\",\"_shards\":{\"total\":2,\"successful\":1,\"failed\":0},\"_seq_no\":0,\"_primary_term\":1}\n",
      "{\"_index\":\"movies\",\"_type\":\"_doc\",\"_id\":\"fZsj2n0BoAqYEq1IPGor\",\"_version\":1,\"result\":\"created\",\"_shards\":{\"total\":2,\"successful\":1,\"failed\":0},\"_seq_no\":0,\"_primary_term\":1}\n",
      "{\"_index\":\"movies\",\"_type\":\"_doc\",\"_id\":\"fpsj2n0BoAqYEq1IPWrc\",\"_version\":1,\"result\":\"created\",\"_shards\":{\"total\":2,\"successful\":1,\"failed\":0},\"_seq_no\":1,\"_primary_term\":1}\n",
      "{\"_index\":\"movies\",\"_type\":\"_doc\",\"_id\":\"f5sj2n0BoAqYEq1IP2oN\",\"_version\":1,\"result\":\"created\",\"_shards\":{\"total\":2,\"successful\":1,\"failed\":0},\"_seq_no\":2,\"_primary_term\":1}\n",
      "{\"_index\":\"movies\",\"_type\":\"_doc\",\"_id\":\"gJsj2n0BoAqYEq1IQGo4\",\"_version\":1,\"result\":\"created\",\"_shards\":{\"total\":2,\"successful\":1,\"failed\":0},\"_seq_no\":1,\"_primary_term\":1}\n",
      "{\"_index\":\"movies\",\"_type\":\"_doc\",\"_id\":\"gZsj2n0BoAqYEq1IQWpZ\",\"_version\":1,\"result\":\"created\",\"_shards\":{\"total\":2,\"successful\":1,\"failed\":0},\"_seq_no\":1,\"_primary_term\":1}\n",
      "{\"_index\":\"movies\",\"_type\":\"_doc\",\"_id\":\"gpsj2n0BoAqYEq1IQmqU\",\"_version\":1,\"result\":\"created\",\"_shards\":{\"total\":2,\"successful\":1,\"failed\":0},\"_seq_no\":2,\"_primary_term\":1}\n",
      "{\"_index\":\"movies\",\"_type\":\"_doc\",\"_id\":\"g5sj2n0BoAqYEq1IQ2qv\",\"_version\":1,\"result\":\"created\",\"_shards\":{\"total\":2,\"successful\":1,\"failed\":0},\"_seq_no\":3,\"_primary_term\":1}\n",
      "{\"_index\":\"movies\",\"_type\":\"_doc\",\"_id\":\"hJsj2n0BoAqYEq1IRGrY\",\"_version\":1,\"result\":\"created\",\"_shards\":{\"total\":2,\"successful\":1,\"failed\":0},\"_seq_no\":4,\"_primary_term\":1}\n",
      "{\"_index\":\"movies\",\"_type\":\"_doc\",\"_id\":\"hZsj2n0BoAqYEq1IRWr6\",\"_version\":1,\"result\":\"created\",\"_shards\":{\"total\":2,\"successful\":1,\"failed\":0},\"_seq_no\":5,\"_primary_term\":1}\n",
      "{\"_index\":\"movies\",\"_type\":\"_doc\",\"_id\":\"hpsj2n0BoAqYEq1IR2oa\",\"_version\":1,\"result\":\"created\",\"_shards\":{\"total\":2,\"successful\":1,\"failed\":0},\"_seq_no\":1,\"_primary_term\":1}\n",
      "{\"_index\":\"movies\",\"_type\":\"_doc\",\"_id\":\"h5sj2n0BoAqYEq1ISGp7\",\"_version\":1,\"result\":\"created\",\"_shards\":{\"total\":2,\"successful\":1,\"failed\":0},\"_seq_no\":2,\"_primary_term\":1}\n",
      "{\"_index\":\"movies\",\"_type\":\"_doc\",\"_id\":\"iJsj2n0BoAqYEq1ISWqd\",\"_version\":1,\"result\":\"created\",\"_shards\":{\"total\":2,\"successful\":1,\"failed\":0},\"_seq_no\":6,\"_primary_term\":1}\n",
      "{\"_index\":\"movies\",\"_type\":\"_doc\",\"_id\":\"iZsj2n0BoAqYEq1ISmrA\",\"_version\":1,\"result\":\"created\",\"_shards\":{\"total\":2,\"successful\":1,\"failed\":0},\"_seq_no\":3,\"_primary_term\":1}\n",
      "{\"_index\":\"movies\",\"_type\":\"_doc\",\"_id\":\"ipsj2n0BoAqYEq1IS2rp\",\"_version\":1,\"result\":\"created\",\"_shards\":{\"total\":2,\"successful\":1,\"failed\":0},\"_seq_no\":1,\"_primary_term\":1}\n",
      "{\"_index\":\"movies\",\"_type\":\"_doc\",\"_id\":\"i5sj2n0BoAqYEq1ITWoM\",\"_version\":1,\"result\":\"created\",\"_shards\":{\"total\":2,\"successful\":1,\"failed\":0},\"_seq_no\":2,\"_primary_term\":1}\n",
      "{\"_index\":\"movies\",\"_type\":\"_doc\",\"_id\":\"jJsj2n0BoAqYEq1ITmo6\",\"_version\":1,\"result\":\"created\",\"_shards\":{\"total\":2,\"successful\":1,\"failed\":0},\"_seq_no\":7,\"_primary_term\":1}\n",
      "{\"_index\":\"movies\",\"_type\":\"_doc\",\"_id\":\"jZsj2n0BoAqYEq1IT2pY\",\"_version\":1,\"result\":\"created\",\"_shards\":{\"total\":2,\"successful\":1,\"failed\":0},\"_seq_no\":3,\"_primary_term\":1}\n",
      "{\"_index\":\"movies\",\"_type\":\"_doc\",\"_id\":\"jpsj2n0BoAqYEq1IUGqM\",\"_version\":1,\"result\":\"created\",\"_shards\":{\"total\":2,\"successful\":1,\"failed\":0},\"_seq_no\":8,\"_primary_term\":1}\n",
      "{\"_index\":\"movies\",\"_type\":\"_doc\",\"_id\":\"j5sj2n0BoAqYEq1IUWqr\",\"_version\":1,\"result\":\"created\",\"_shards\":{\"total\":2,\"successful\":1,\"failed\":0},\"_seq_no\":4,\"_primary_term\":1}\n",
      "{\"_index\":\"movies\",\"_type\":\"_doc\",\"_id\":\"kJsj2n0BoAqYEq1IUmrY\",\"_version\":1,\"result\":\"created\",\"_shards\":{\"total\":2,\"successful\":1,\"failed\":0},\"_seq_no\":9,\"_primary_term\":1}\n",
      "{\"_index\":\"movies\",\"_type\":\"_doc\",\"_id\":\"kZsj2n0BoAqYEq1IU2r2\",\"_version\":1,\"result\":\"created\",\"_shards\":{\"total\":2,\"successful\":1,\"failed\":0},\"_seq_no\":5,\"_primary_term\":1}\n",
      "{\"_index\":\"movies\",\"_type\":\"_doc\",\"_id\":\"kpsj2n0BoAqYEq1IVWoV\",\"_version\":1,\"result\":\"created\",\"_shards\":{\"total\":2,\"successful\":1,\"failed\":0},\"_seq_no\":4,\"_primary_term\":1}\n",
      "{\"_index\":\"movies\",\"_type\":\"_doc\",\"_id\":\"k5sj2n0BoAqYEq1IVmox\",\"_version\":1,\"result\":\"created\",\"_shards\":{\"total\":2,\"successful\":1,\"failed\":0},\"_seq_no\":10,\"_primary_term\":1}\n",
      "{\"_index\":\"movies\",\"_type\":\"_doc\",\"_id\":\"lJsj2n0BoAqYEq1IV2pk\",\"_version\":1,\"result\":\"created\",\"_shards\":{\"total\":2,\"successful\":1,\"failed\":0},\"_seq_no\":11,\"_primary_term\":1}\n",
      "{\"_index\":\"movies\",\"_type\":\"_doc\",\"_id\":\"lZsj2n0BoAqYEq1IWGqM\",\"_version\":1,\"result\":\"created\",\"_shards\":{\"total\":2,\"successful\":1,\"failed\":0},\"_seq_no\":2,\"_primary_term\":1}\n",
      "{\"_index\":\"movies\",\"_type\":\"_doc\",\"_id\":\"lpsj2n0BoAqYEq1IWWqt\",\"_version\":1,\"result\":\"created\",\"_shards\":{\"total\":2,\"successful\":1,\"failed\":0},\"_seq_no\":3,\"_primary_term\":1}\n",
      "{\"_index\":\"movies\",\"_type\":\"_doc\",\"_id\":\"l5sj2n0BoAqYEq1IWmrj\",\"_version\":1,\"result\":\"created\",\"_shards\":{\"total\":2,\"successful\":1,\"failed\":0},\"_seq_no\":3,\"_primary_term\":1}\n",
      "{\"_index\":\"movies\",\"_type\":\"_doc\",\"_id\":\"mJsj2n0BoAqYEq1IXGoM\",\"_version\":1,\"result\":\"created\",\"_shards\":{\"total\":2,\"successful\":1,\"failed\":0},\"_seq_no\":6,\"_primary_term\":1}\n",
      "{\"_index\":\"movies\",\"_type\":\"_doc\",\"_id\":\"mZsj2n0BoAqYEq1IXWov\",\"_version\":1,\"result\":\"created\",\"_shards\":{\"total\":2,\"successful\":1,\"failed\":0},\"_seq_no\":7,\"_primary_term\":1}\n",
      "{\"_index\":\"movies\",\"_type\":\"_doc\",\"_id\":\"mpsj2n0BoAqYEq1IXmpO\",\"_version\":1,\"result\":\"created\",\"_shards\":{\"total\":2,\"successful\":1,\"failed\":0},\"_seq_no\":12,\"_primary_term\":1}\n",
      "{\"_index\":\"movies\",\"_type\":\"_doc\",\"_id\":\"m5sj2n0BoAqYEq1IX2p6\",\"_version\":1,\"result\":\"created\",\"_shards\":{\"total\":2,\"successful\":1,\"failed\":0},\"_seq_no\":5,\"_primary_term\":1}\n",
      "{\"_index\":\"movies\",\"_type\":\"_doc\",\"_id\":\"nJsj2n0BoAqYEq1IYGqe\",\"_version\":1,\"result\":\"created\",\"_shards\":{\"total\":2,\"successful\":1,\"failed\":0},\"_seq_no\":8,\"_primary_term\":1}\n",
      "{\"_index\":\"movies\",\"_type\":\"_doc\",\"_id\":\"nZsj2n0BoAqYEq1IYWrE\",\"_version\":1,\"result\":\"created\",\"_shards\":{\"total\":2,\"successful\":1,\"failed\":0},\"_seq_no\":6,\"_primary_term\":1}\n",
      "{\"_index\":\"movies\",\"_type\":\"_doc\",\"_id\":\"npsj2n0BoAqYEq1IYmrr\",\"_version\":1,\"result\":\"created\",\"_shards\":{\"total\":2,\"successful\":1,\"failed\":0},\"_seq_no\":7,\"_primary_term\":1}\n",
      "{\"_index\":\"movies\",\"_type\":\"_doc\",\"_id\":\"n5sj2n0BoAqYEq1IZGoH\",\"_version\":1,\"result\":\"created\",\"_shards\":{\"total\":2,\"successful\":1,\"failed\":0},\"_seq_no\":9,\"_primary_term\":1}\n",
      "{\"_index\":\"movies\",\"_type\":\"_doc\",\"_id\":\"oJsj2n0BoAqYEq1IZWoh\",\"_version\":1,\"result\":\"created\",\"_shards\":{\"total\":2,\"successful\":1,\"failed\":0},\"_seq_no\":10,\"_primary_term\":1}\n",
      "{\"_index\":\"movies\",\"_type\":\"_doc\",\"_id\":\"oZsj2n0BoAqYEq1IZmo8\",\"_version\":1,\"result\":\"created\",\"_shards\":{\"total\":2,\"successful\":1,\"failed\":0},\"_seq_no\":11,\"_primary_term\":1}\n",
      "{\"_index\":\"movies\",\"_type\":\"_doc\",\"_id\":\"opsj2n0BoAqYEq1IZ2pS\",\"_version\":1,\"result\":\"created\",\"_shards\":{\"total\":2,\"successful\":1,\"failed\":0},\"_seq_no\":4,\"_primary_term\":1}\n",
      "{\"_index\":\"movies\",\"_type\":\"_doc\",\"_id\":\"o5sj2n0BoAqYEq1IaGps\",\"_version\":1,\"result\":\"created\",\"_shards\":{\"total\":2,\"successful\":1,\"failed\":0},\"_seq_no\":12,\"_primary_term\":1}\n",
      "{\"_index\":\"movies\",\"_type\":\"_doc\",\"_id\":\"pJsj2n0BoAqYEq1IaWqF\",\"_version\":1,\"result\":\"created\",\"_shards\":{\"total\":2,\"successful\":1,\"failed\":0},\"_seq_no\":13,\"_primary_term\":1}\n",
      "{\"_index\":\"movies\",\"_type\":\"_doc\",\"_id\":\"pZsj2n0BoAqYEq1Iamqf\",\"_version\":1,\"result\":\"created\",\"_shards\":{\"total\":2,\"successful\":1,\"failed\":0},\"_seq_no\":14,\"_primary_term\":1}\n",
      "{\"_index\":\"movies\",\"_type\":\"_doc\",\"_id\":\"ppsj2n0BoAqYEq1Ia2q0\",\"_version\":1,\"result\":\"created\",\"_shards\":{\"total\":2,\"successful\":1,\"failed\":0},\"_seq_no\":15,\"_primary_term\":1}\n",
      "{\"_index\":\"movies\",\"_type\":\"_doc\",\"_id\":\"p5sj2n0BoAqYEq1IbGrR\",\"_version\":1,\"result\":\"created\",\"_shards\":{\"total\":2,\"successful\":1,\"failed\":0},\"_seq_no\":13,\"_primary_term\":1}\n",
      "{\"_index\":\"movies\",\"_type\":\"_doc\",\"_id\":\"qJsj2n0BoAqYEq1IbWrx\",\"_version\":1,\"result\":\"created\",\"_shards\":{\"total\":2,\"successful\":1,\"failed\":0},\"_seq_no\":5,\"_primary_term\":1}\n"
     ]
    },
    {
     "name": "stdout",
     "output_type": "stream",
     "text": [
      "{\"_index\":\"movies\",\"_type\":\"_doc\",\"_id\":\"qZsj2n0BoAqYEq1Ib2oS\",\"_version\":1,\"result\":\"created\",\"_shards\":{\"total\":2,\"successful\":1,\"failed\":0},\"_seq_no\":14,\"_primary_term\":1}\n",
      "{\"_index\":\"movies\",\"_type\":\"_doc\",\"_id\":\"qpsj2n0BoAqYEq1IcGo0\",\"_version\":1,\"result\":\"created\",\"_shards\":{\"total\":2,\"successful\":1,\"failed\":0},\"_seq_no\":8,\"_primary_term\":1}\n",
      "{\"_index\":\"movies\",\"_type\":\"_doc\",\"_id\":\"q5sj2n0BoAqYEq1IcWpS\",\"_version\":1,\"result\":\"created\",\"_shards\":{\"total\":2,\"successful\":1,\"failed\":0},\"_seq_no\":4,\"_primary_term\":1}\n",
      "{\"_index\":\"movies\",\"_type\":\"_doc\",\"_id\":\"rJsj2n0BoAqYEq1Icmp9\",\"_version\":1,\"result\":\"created\",\"_shards\":{\"total\":2,\"successful\":1,\"failed\":0},\"_seq_no\":15,\"_primary_term\":1}\n",
      "{\"_index\":\"movies\",\"_type\":\"_doc\",\"_id\":\"rZsj2n0BoAqYEq1Ic2rQ\",\"_version\":1,\"result\":\"created\",\"_shards\":{\"total\":2,\"successful\":1,\"failed\":0},\"_seq_no\":5,\"_primary_term\":1}\n",
      "{\"_index\":\"movies\",\"_type\":\"_doc\",\"_id\":\"rpsj2n0BoAqYEq1IdGry\",\"_version\":1,\"result\":\"created\",\"_shards\":{\"total\":2,\"successful\":1,\"failed\":0},\"_seq_no\":9,\"_primary_term\":1}\n",
      "{\"_index\":\"movies\",\"_type\":\"_doc\",\"_id\":\"r5sj2n0BoAqYEq1Idmop\",\"_version\":1,\"result\":\"created\",\"_shards\":{\"total\":2,\"successful\":1,\"failed\":0},\"_seq_no\":6,\"_primary_term\":1}\n",
      "{\"_index\":\"movies\",\"_type\":\"_doc\",\"_id\":\"sJsj2n0BoAqYEq1Id2pG\",\"_version\":1,\"result\":\"created\",\"_shards\":{\"total\":2,\"successful\":1,\"failed\":0},\"_seq_no\":16,\"_primary_term\":1}\n",
      "{\"_index\":\"movies\",\"_type\":\"_doc\",\"_id\":\"sZsj2n0BoAqYEq1IeGph\",\"_version\":1,\"result\":\"created\",\"_shards\":{\"total\":2,\"successful\":1,\"failed\":0},\"_seq_no\":17,\"_primary_term\":1}\n",
      "{\"_index\":\"movies\",\"_type\":\"_doc\",\"_id\":\"spsj2n0BoAqYEq1IeWp9\",\"_version\":1,\"result\":\"created\",\"_shards\":{\"total\":2,\"successful\":1,\"failed\":0},\"_seq_no\":7,\"_primary_term\":1}\n",
      "{\"_index\":\"movies\",\"_type\":\"_doc\",\"_id\":\"s5sj2n0BoAqYEq1Iemqf\",\"_version\":1,\"result\":\"created\",\"_shards\":{\"total\":2,\"successful\":1,\"failed\":0},\"_seq_no\":6,\"_primary_term\":1}\n",
      "{\"_index\":\"movies\",\"_type\":\"_doc\",\"_id\":\"tJsj2n0BoAqYEq1Ie2rS\",\"_version\":1,\"result\":\"created\",\"_shards\":{\"total\":2,\"successful\":1,\"failed\":0},\"_seq_no\":16,\"_primary_term\":1}\n",
      "{\"_index\":\"movies\",\"_type\":\"_doc\",\"_id\":\"tZsj2n0BoAqYEq1IfGr3\",\"_version\":1,\"result\":\"created\",\"_shards\":{\"total\":2,\"successful\":1,\"failed\":0},\"_seq_no\":8,\"_primary_term\":1}\n",
      "{\"_index\":\"movies\",\"_type\":\"_doc\",\"_id\":\"tpsj2n0BoAqYEq1IfmoR\",\"_version\":1,\"result\":\"created\",\"_shards\":{\"total\":2,\"successful\":1,\"failed\":0},\"_seq_no\":17,\"_primary_term\":1}\n",
      "{\"_index\":\"movies\",\"_type\":\"_doc\",\"_id\":\"t5sj2n0BoAqYEq1If2oo\",\"_version\":1,\"result\":\"created\",\"_shards\":{\"total\":2,\"successful\":1,\"failed\":0},\"_seq_no\":7,\"_primary_term\":1}\n",
      "{\"_index\":\"movies\",\"_type\":\"_doc\",\"_id\":\"uJsj2n0BoAqYEq1IgGpZ\",\"_version\":1,\"result\":\"created\",\"_shards\":{\"total\":2,\"successful\":1,\"failed\":0},\"_seq_no\":8,\"_primary_term\":1}\n",
      "{\"_index\":\"movies\",\"_type\":\"_doc\",\"_id\":\"uZsj2n0BoAqYEq1IgWqN\",\"_version\":1,\"result\":\"created\",\"_shards\":{\"total\":2,\"successful\":1,\"failed\":0},\"_seq_no\":18,\"_primary_term\":1}\n",
      "{\"_index\":\"movies\",\"_type\":\"_doc\",\"_id\":\"upsj2n0BoAqYEq1Igmqn\",\"_version\":1,\"result\":\"created\",\"_shards\":{\"total\":2,\"successful\":1,\"failed\":0},\"_seq_no\":18,\"_primary_term\":1}\n",
      "{\"_index\":\"movies\",\"_type\":\"_doc\",\"_id\":\"u5sj2n0BoAqYEq1Ig2rZ\",\"_version\":1,\"result\":\"created\",\"_shards\":{\"total\":2,\"successful\":1,\"failed\":0},\"_seq_no\":19,\"_primary_term\":1}\n",
      "{\"_index\":\"movies\",\"_type\":\"_doc\",\"_id\":\"vJsj2n0BoAqYEq1IhGr6\",\"_version\":1,\"result\":\"created\",\"_shards\":{\"total\":2,\"successful\":1,\"failed\":0},\"_seq_no\":10,\"_primary_term\":1}\n",
      "{\"_index\":\"movies\",\"_type\":\"_doc\",\"_id\":\"vZsj2n0BoAqYEq1Ihmoq\",\"_version\":1,\"result\":\"created\",\"_shards\":{\"total\":2,\"successful\":1,\"failed\":0},\"_seq_no\":19,\"_primary_term\":1}\n",
      "{\"_index\":\"movies\",\"_type\":\"_doc\",\"_id\":\"vpsj2n0BoAqYEq1Ih2pl\",\"_version\":1,\"result\":\"created\",\"_shards\":{\"total\":2,\"successful\":1,\"failed\":0},\"_seq_no\":20,\"_primary_term\":1}\n",
      "{\"_index\":\"movies\",\"_type\":\"_doc\",\"_id\":\"v5sj2n0BoAqYEq1IiGqM\",\"_version\":1,\"result\":\"created\",\"_shards\":{\"total\":2,\"successful\":1,\"failed\":0},\"_seq_no\":9,\"_primary_term\":1}\n",
      "{\"_index\":\"movies\",\"_type\":\"_doc\",\"_id\":\"wJsj2n0BoAqYEq1IiWq9\",\"_version\":1,\"result\":\"created\",\"_shards\":{\"total\":2,\"successful\":1,\"failed\":0},\"_seq_no\":21,\"_primary_term\":1}\n",
      "{\"_index\":\"movies\",\"_type\":\"_doc\",\"_id\":\"wZsj2n0BoAqYEq1Ii2oQ\",\"_version\":1,\"result\":\"created\",\"_shards\":{\"total\":2,\"successful\":1,\"failed\":0},\"_seq_no\":11,\"_primary_term\":1}\n",
      "{\"_index\":\"movies\",\"_type\":\"_doc\",\"_id\":\"wpsj2n0BoAqYEq1IjGo0\",\"_version\":1,\"result\":\"created\",\"_shards\":{\"total\":2,\"successful\":1,\"failed\":0},\"_seq_no\":12,\"_primary_term\":1}\n",
      "{\"_index\":\"movies\",\"_type\":\"_doc\",\"_id\":\"w5sj2n0BoAqYEq1IjWpX\",\"_version\":1,\"result\":\"created\",\"_shards\":{\"total\":2,\"successful\":1,\"failed\":0},\"_seq_no\":13,\"_primary_term\":1}\n",
      "{\"_index\":\"movies\",\"_type\":\"_doc\",\"_id\":\"xJsj2n0BoAqYEq1Ijmp8\",\"_version\":1,\"result\":\"created\",\"_shards\":{\"total\":2,\"successful\":1,\"failed\":0},\"_seq_no\":14,\"_primary_term\":1}\n",
      "{\"_index\":\"movies\",\"_type\":\"_doc\",\"_id\":\"xZsj2n0BoAqYEq1Ij2q2\",\"_version\":1,\"result\":\"created\",\"_shards\":{\"total\":2,\"successful\":1,\"failed\":0},\"_seq_no\":22,\"_primary_term\":1}\n",
      "{\"_index\":\"movies\",\"_type\":\"_doc\",\"_id\":\"xpsj2n0BoAqYEq1IkWoC\",\"_version\":1,\"result\":\"created\",\"_shards\":{\"total\":2,\"successful\":1,\"failed\":0},\"_seq_no\":23,\"_primary_term\":1}\n",
      "{\"_index\":\"movies\",\"_type\":\"_doc\",\"_id\":\"x5sj2n0BoAqYEq1Ikmpl\",\"_version\":1,\"result\":\"created\",\"_shards\":{\"total\":2,\"successful\":1,\"failed\":0},\"_seq_no\":15,\"_primary_term\":1}\n",
      "{\"_index\":\"movies\",\"_type\":\"_doc\",\"_id\":\"yJsj2n0BoAqYEq1Ik2qH\",\"_version\":1,\"result\":\"created\",\"_shards\":{\"total\":2,\"successful\":1,\"failed\":0},\"_seq_no\":16,\"_primary_term\":1}\n",
      "{\"_index\":\"movies\",\"_type\":\"_doc\",\"_id\":\"yZsj2n0BoAqYEq1IlGqu\",\"_version\":1,\"result\":\"created\",\"_shards\":{\"total\":2,\"successful\":1,\"failed\":0},\"_seq_no\":17,\"_primary_term\":1}\n",
      "{\"_index\":\"movies\",\"_type\":\"_doc\",\"_id\":\"ypsj2n0BoAqYEq1IlWrO\",\"_version\":1,\"result\":\"created\",\"_shards\":{\"total\":2,\"successful\":1,\"failed\":0},\"_seq_no\":10,\"_primary_term\":1}\n",
      "{\"_index\":\"movies\",\"_type\":\"_doc\",\"_id\":\"y5sj2n0BoAqYEq1Ilmrs\",\"_version\":1,\"result\":\"created\",\"_shards\":{\"total\":2,\"successful\":1,\"failed\":0},\"_seq_no\":11,\"_primary_term\":1}\n",
      "{\"_index\":\"movies\",\"_type\":\"_doc\",\"_id\":\"zJsj2n0BoAqYEq1ImGog\",\"_version\":1,\"result\":\"created\",\"_shards\":{\"total\":2,\"successful\":1,\"failed\":0},\"_seq_no\":9,\"_primary_term\":1}\n",
      "{\"_index\":\"movies\",\"_type\":\"_doc\",\"_id\":\"zZsj2n0BoAqYEq1ImWo_\",\"_version\":1,\"result\":\"created\",\"_shards\":{\"total\":2,\"successful\":1,\"failed\":0},\"_seq_no\":18,\"_primary_term\":1}\n",
      "{\"_index\":\"movies\",\"_type\":\"_doc\",\"_id\":\"zpsj2n0BoAqYEq1Immps\",\"_version\":1,\"result\":\"created\",\"_shards\":{\"total\":2,\"successful\":1,\"failed\":0},\"_seq_no\":19,\"_primary_term\":1}\n",
      "{\"_index\":\"movies\",\"_type\":\"_doc\",\"_id\":\"z5sj2n0BoAqYEq1Im2qX\",\"_version\":1,\"result\":\"created\",\"_shards\":{\"total\":2,\"successful\":1,\"failed\":0},\"_seq_no\":20,\"_primary_term\":1}\n",
      "{\"_index\":\"movies\",\"_type\":\"_doc\",\"_id\":\"0Jsj2n0BoAqYEq1InGrO\",\"_version\":1,\"result\":\"created\",\"_shards\":{\"total\":2,\"successful\":1,\"failed\":0},\"_seq_no\":24,\"_primary_term\":1}\n",
      "{\"_index\":\"movies\",\"_type\":\"_doc\",\"_id\":\"0Zsj2n0BoAqYEq1InWry\",\"_version\":1,\"result\":\"created\",\"_shards\":{\"total\":2,\"successful\":1,\"failed\":0},\"_seq_no\":21,\"_primary_term\":1}\n",
      "{\"_index\":\"movies\",\"_type\":\"_doc\",\"_id\":\"0psj2n0BoAqYEq1In2od\",\"_version\":1,\"result\":\"created\",\"_shards\":{\"total\":2,\"successful\":1,\"failed\":0},\"_seq_no\":10,\"_primary_term\":1}\n",
      "{\"_index\":\"movies\",\"_type\":\"_doc\",\"_id\":\"05sj2n0BoAqYEq1IoGpC\",\"_version\":1,\"result\":\"created\",\"_shards\":{\"total\":2,\"successful\":1,\"failed\":0},\"_seq_no\":12,\"_primary_term\":1}\n",
      "{\"_index\":\"movies\",\"_type\":\"_doc\",\"_id\":\"1Jsj2n0BoAqYEq1IoWpw\",\"_version\":1,\"result\":\"created\",\"_shards\":{\"total\":2,\"successful\":1,\"failed\":0},\"_seq_no\":25,\"_primary_term\":1}\n",
      "{\"_index\":\"movies\",\"_type\":\"_doc\",\"_id\":\"1Zsj2n0BoAqYEq1IomqZ\",\"_version\":1,\"result\":\"created\",\"_shards\":{\"total\":2,\"successful\":1,\"failed\":0},\"_seq_no\":11,\"_primary_term\":1}\n",
      "{\"_index\":\"movies\",\"_type\":\"_doc\",\"_id\":\"1psj2n0BoAqYEq1Io2q3\",\"_version\":1,\"result\":\"created\",\"_shards\":{\"total\":2,\"successful\":1,\"failed\":0},\"_seq_no\":12,\"_primary_term\":1}\n",
      "{\"_index\":\"movies\",\"_type\":\"_doc\",\"_id\":\"15sj2n0BoAqYEq1IpGrz\",\"_version\":1,\"result\":\"created\",\"_shards\":{\"total\":2,\"successful\":1,\"failed\":0},\"_seq_no\":13,\"_primary_term\":1}\n"
     ]
    },
    {
     "name": "stdout",
     "output_type": "stream",
     "text": [
      "{\"_index\":\"movies\",\"_type\":\"_doc\",\"_id\":\"2Jsj2n0BoAqYEq1Ipmoh\",\"_version\":1,\"result\":\"created\",\"_shards\":{\"total\":2,\"successful\":1,\"failed\":0},\"_seq_no\":14,\"_primary_term\":1}\n",
      "{\"_index\":\"movies\",\"_type\":\"_doc\",\"_id\":\"2Zsj2n0BoAqYEq1Ip2pv\",\"_version\":1,\"result\":\"created\",\"_shards\":{\"total\":2,\"successful\":1,\"failed\":0},\"_seq_no\":13,\"_primary_term\":1}\n",
      "{\"_index\":\"movies\",\"_type\":\"_doc\",\"_id\":\"2psj2n0BoAqYEq1IqGqa\",\"_version\":1,\"result\":\"created\",\"_shards\":{\"total\":2,\"successful\":1,\"failed\":0},\"_seq_no\":15,\"_primary_term\":1}\n",
      "{\"_index\":\"movies\",\"_type\":\"_doc\",\"_id\":\"25sj2n0BoAqYEq1IqWro\",\"_version\":1,\"result\":\"created\",\"_shards\":{\"total\":2,\"successful\":1,\"failed\":0},\"_seq_no\":20,\"_primary_term\":1}\n",
      "{\"_index\":\"movies\",\"_type\":\"_doc\",\"_id\":\"3Jsj2n0BoAqYEq1Iq2pC\",\"_version\":1,\"result\":\"created\",\"_shards\":{\"total\":2,\"successful\":1,\"failed\":0},\"_seq_no\":16,\"_primary_term\":1}\n",
      "100\n"
     ]
    }
   ],
   "source": [
    "# put indices in Opensearch\n",
    "count = 0\n",
    "for actor in actor_info:\n",
    "    for f in actor['features']:\n",
    "        index_json = {\n",
    "            \"actor_id\": actor['actor_id'],\n",
    "            \"actor_name\": actor['name'],\n",
    "            \"movie_id\": f['movie_id'],\n",
    "            \"movie_title\": f['title'],\n",
    "            \"movie_character\": f['character'],\n",
    "            \"movie_genre\": genre_dict[f['movie_id']]\n",
    "        }\n",
    "        count += 1\n",
    "        # print(index_json)\n",
    "        host = 'https://search-movies-zhkkpomplgb457xjek35mxp5dy.us-west-2.es.amazonaws.com'\n",
    "        index = 'movies'\n",
    "        url = str(host + '/' + index + '/' + '_doc')\n",
    "        headers = {'Content-Type': \"application/json\", 'Accept': \"application/json\"}\n",
    "        r = requests.post(url, json=index_json, headers=headers, auth = HTTPBasicAuth('******', '******'))\n",
    "        print(r.text)\n",
    "print(count)"
   ]
  },
  {
   "cell_type": "code",
   "execution_count": 24,
   "metadata": {},
   "outputs": [
    {
     "data": {
      "text/plain": [
       "{'actor_id': 6384,\n",
       " 'actor_name': 'Keanu Reeves',\n",
       " 'movie_id': 245891,\n",
       " 'movie_title': 'John Wick',\n",
       " 'movie_character': 'Jonathan \"John\" Wick',\n",
       " 'movie_genre': ['Action', 'Thriller']}"
      ]
     },
     "execution_count": 24,
     "metadata": {},
     "output_type": "execute_result"
    }
   ],
   "source": [
    "# query by movie_title\n",
    "host = 'https://search-movies-zhkkpomplgb457xjek35mxp5dy.us-west-2.es.amazonaws.com'\n",
    "index = 'movies'\n",
    "url = str(host + '/' + index + '/' + '_search')\n",
    "headers = {'Content-Type': \"application/json\", 'Accept': \"application/json\"}\n",
    "search_json = {\n",
    "    \"query\": {\n",
    "        \"match\": {\n",
    "          \"movie_title\": \"John Wick\"\n",
    "        }\n",
    "    }\n",
    "}\n",
    "r = requests.get(url, json=search_json, headers=headers, auth = HTTPBasicAuth('******', '*******'))\n",
    "response_dict = json.loads(r.text)\n",
    "hits = response_dict['hits']['hits']\n",
    "hits[0]['_source']"
   ]
  },
  {
   "cell_type": "code",
   "execution_count": 26,
   "metadata": {},
   "outputs": [
    {
     "name": "stdout",
     "output_type": "stream",
     "text": [
      "9\n"
     ]
    },
    {
     "data": {
      "text/plain": [
       "{'actor_id': 287,\n",
       " 'actor_name': 'Brad Pitt',\n",
       " 'movie_id': 4922,\n",
       " 'movie_title': 'The Curious Case of Benjamin Button',\n",
       " 'movie_character': 'Benjamin Button',\n",
       " 'movie_genre': ['Drama', 'Fantasy', 'Romance']}"
      ]
     },
     "execution_count": 26,
     "metadata": {},
     "output_type": "execute_result"
    }
   ],
   "source": [
    "# query by actor_name\n",
    "host = 'https://search-movies-zhkkpomplgb457xjek35mxp5dy.us-west-2.es.amazonaws.com'\n",
    "index = 'movies'\n",
    "url = str(host + '/' + index + '/' + '_search')\n",
    "headers = {'Content-Type': \"application/json\", 'Accept': \"application/json\"}\n",
    "search_json = {\n",
    "    \"query\": {\n",
    "        \"match\": {\n",
    "          \"actor_name\": \"Brad Pitt\"\n",
    "        }\n",
    "    }\n",
    "}\n",
    "r = requests.get(url, json=search_json, headers=headers, auth = HTTPBasicAuth('******', '*******'))\n",
    "response_dict = json.loads(r.text)\n",
    "hits = response_dict['hits']['hits']\n",
    "print(len(hits))\n",
    "hits[0]['_source']"
   ]
  },
  {
   "cell_type": "code",
   "execution_count": 31,
   "metadata": {},
   "outputs": [
    {
     "name": "stdout",
     "output_type": "stream",
     "text": [
      "10\n",
      "{'actor_id': 10990, 'actor_name': 'Emma Watson', 'movie_id': 84892, 'movie_title': 'The Perks of Being a Wallflower', 'movie_character': 'Sam', 'movie_genre': ['Drama']}\n",
      "{'actor_id': 1245, 'actor_name': 'Scarlett Johansson', 'movie_id': 1548, 'movie_title': 'Ghost World', 'movie_character': 'Rebecca', 'movie_genre': ['Comedy', 'Drama']}\n",
      "{'actor_id': 10990, 'actor_name': 'Emma Watson', 'movie_id': 96936, 'movie_title': 'The Bling Ring', 'movie_character': 'Nicki Moore', 'movie_genre': ['Drama', 'Crime']}\n",
      "{'actor_id': 1892, 'actor_name': 'Matt Damon', 'movie_id': 489, 'movie_title': 'Good Will Hunting', 'movie_character': 'Will Hunting', 'movie_genre': ['Drama']}\n",
      "{'actor_id': 2888, 'actor_name': 'Will Smith', 'movie_id': 1402, 'movie_title': 'The Pursuit of Happyness', 'movie_character': 'Chris Gardner', 'movie_genre': ['Drama']}\n",
      "{'actor_id': 31, 'actor_name': 'Tom Hanks', 'movie_id': 857, 'movie_title': 'Saving Private Ryan', 'movie_character': 'Captain John H. Miller', 'movie_genre': ['Drama', 'History', 'War']}\n",
      "{'actor_id': 287, 'actor_name': 'Brad Pitt', 'movie_id': 4922, 'movie_title': 'The Curious Case of Benjamin Button', 'movie_character': 'Benjamin Button', 'movie_genre': ['Drama', 'Fantasy', 'Romance']}\n",
      "{'actor_id': 31, 'actor_name': 'Tom Hanks', 'movie_id': 13, 'movie_title': 'Forrest Gump', 'movie_character': 'Forrest Gump', 'movie_genre': ['Comedy', 'Drama', 'Romance']}\n",
      "{'actor_id': 1892, 'actor_name': 'Matt Damon', 'movie_id': 1422, 'movie_title': 'The Departed', 'movie_character': 'Staff Sgt. Colin Sullivan', 'movie_genre': ['Drama', 'Thriller', 'Crime']}\n",
      "{'actor_id': 31, 'actor_name': 'Tom Hanks', 'movie_id': 640, 'movie_title': 'Catch Me If You Can', 'movie_character': 'Carl Hanratty', 'movie_genre': ['Drama', 'Crime']}\n"
     ]
    }
   ],
   "source": [
    "# query by movie genre\n",
    "host = 'https://search-movies-zhkkpomplgb457xjek35mxp5dy.us-west-2.es.amazonaws.com'\n",
    "index = 'movies'\n",
    "url = str(host + '/' + index + '/' + '_search')\n",
    "headers = {'Content-Type': \"application/json\", 'Accept': \"application/json\"}\n",
    "search_json = {\n",
    "    \"query\": {\n",
    "        \"match\": {\n",
    "            \"movie_genre\": \"Drama\"\n",
    "        }\n",
    "    }\n",
    "}\n",
    "r = requests.get(url, json=search_json, headers=headers, auth = HTTPBasicAuth('*******', '*******'))\n",
    "response_dict = json.loads(r.text)\n",
    "hits = response_dict['hits']['hits']\n",
    "print(len(hits))\n",
    "for h in hits:\n",
    "    print(h['_source'])"
   ]
  },
  {
   "cell_type": "code",
   "execution_count": 48,
   "metadata": {},
   "outputs": [
    {
     "name": "stdout",
     "output_type": "stream",
     "text": [
      "{'took': 10, 'timed_out': False, '_shards': {'total': 5, 'successful': 5, 'skipped': 0, 'failed': 0}, 'hits': {'total': {'value': 7, 'relation': 'eq'}, 'max_score': 6.5736403, 'hits': [{'_index': 'movies', '_type': '_doc', '_id': 'epsj2n0BoAqYEq1IN2oB', '_score': 6.5736403, '_source': {'actor_id': 287, 'actor_name': 'Brad Pitt', 'movie_id': 4922, 'movie_title': 'The Curious Case of Benjamin Button', 'movie_character': 'Benjamin Button', 'movie_genre': ['Drama', 'Fantasy', 'Romance']}}, {'_index': 'movies', '_type': '_doc', '_id': 'e5sj2n0BoAqYEq1IOGow', '_score': 5.702986, '_source': {'actor_id': 287, 'actor_name': 'Brad Pitt', 'movie_id': 72190, 'movie_title': 'World War Z', 'movie_character': 'Gerry Lane', 'movie_genre': ['Action', 'Drama', 'Horror', 'Science Fiction', 'Thriller']}}, {'_index': 'movies', '_type': '_doc', '_id': 'gZsj2n0BoAqYEq1IQWpZ', '_score': 5.2926884, '_source': {'actor_id': 287, 'actor_name': 'Brad Pitt', 'movie_id': 466272, 'movie_title': 'Once Upon a Time… in Hollywood', 'movie_character': 'Cliff Booth', 'movie_genre': ['Comedy', 'Drama', 'Thriller']}}, {'_index': 'movies', '_type': '_doc', '_id': 'fZsj2n0BoAqYEq1IPGor', '_score': 5.192697, '_source': {'actor_id': 287, 'actor_name': 'Brad Pitt', 'movie_id': 16869, 'movie_title': 'Inglourious Basterds', 'movie_character': 'First Lieutenant Aldo \"The Apache\" Raine', 'movie_genre': ['Drama', 'Action', 'Thriller', 'War']}}, {'_index': 'movies', '_type': '_doc', '_id': 'f5sj2n0BoAqYEq1IP2oN', '_score': 5.16222, '_source': {'actor_id': 287, 'actor_name': 'Brad Pitt', 'movie_id': 550, 'movie_title': 'Fight Club', 'movie_character': 'Tyler Durden', 'movie_genre': ['Drama']}}, {'_index': 'movies', '_type': '_doc', '_id': 'fJsj2n0BoAqYEq1IOWp1', '_score': 4.90229, '_source': {'actor_id': 287, 'actor_name': 'Brad Pitt', 'movie_id': 228150, 'movie_title': 'Fury', 'movie_character': \"Don 'Wardaddy' Collier\", 'movie_genre': ['War', 'Drama', 'Action']}}, {'_index': 'movies', '_type': '_doc', '_id': 'eZsj2n0BoAqYEq1IMmr8', '_score': 4.5994077, '_source': {'actor_id': 287, 'actor_name': 'Brad Pitt', 'movie_id': 787, 'movie_title': 'Mr. & Mrs. Smith', 'movie_character': 'John Smith', 'movie_genre': ['Action', 'Comedy', 'Drama', 'Thriller']}}]}}\n",
      "7\n",
      "{'actor_id': 287, 'actor_name': 'Brad Pitt', 'movie_id': 4922, 'movie_title': 'The Curious Case of Benjamin Button', 'movie_character': 'Benjamin Button', 'movie_genre': ['Drama', 'Fantasy', 'Romance']}\n",
      "{'actor_id': 287, 'actor_name': 'Brad Pitt', 'movie_id': 72190, 'movie_title': 'World War Z', 'movie_character': 'Gerry Lane', 'movie_genre': ['Action', 'Drama', 'Horror', 'Science Fiction', 'Thriller']}\n",
      "{'actor_id': 287, 'actor_name': 'Brad Pitt', 'movie_id': 466272, 'movie_title': 'Once Upon a Time… in Hollywood', 'movie_character': 'Cliff Booth', 'movie_genre': ['Comedy', 'Drama', 'Thriller']}\n",
      "{'actor_id': 287, 'actor_name': 'Brad Pitt', 'movie_id': 16869, 'movie_title': 'Inglourious Basterds', 'movie_character': 'First Lieutenant Aldo \"The Apache\" Raine', 'movie_genre': ['Drama', 'Action', 'Thriller', 'War']}\n",
      "{'actor_id': 287, 'actor_name': 'Brad Pitt', 'movie_id': 550, 'movie_title': 'Fight Club', 'movie_character': 'Tyler Durden', 'movie_genre': ['Drama']}\n",
      "{'actor_id': 287, 'actor_name': 'Brad Pitt', 'movie_id': 228150, 'movie_title': 'Fury', 'movie_character': \"Don 'Wardaddy' Collier\", 'movie_genre': ['War', 'Drama', 'Action']}\n",
      "{'actor_id': 287, 'actor_name': 'Brad Pitt', 'movie_id': 787, 'movie_title': 'Mr. & Mrs. Smith', 'movie_character': 'John Smith', 'movie_genre': ['Action', 'Comedy', 'Drama', 'Thriller']}\n"
     ]
    }
   ],
   "source": [
    "# query by movie genre\n",
    "host = 'https://search-movies-zhkkpomplgb457xjek35mxp5dy.us-west-2.es.amazonaws.com'\n",
    "index = 'movies'\n",
    "url = str(host + '/' + index + '/' + '_search')\n",
    "headers = {'Content-Type': \"application/json\", 'Accept': \"application/json\"}\n",
    "search_json = {\n",
    "    \"query\": {\n",
    "        \"bool\": {\n",
    "          \"must\": [\n",
    "            {\n",
    "              \"match\": {\n",
    "                \"actor_name\": \"Brad Pitt\"\n",
    "              }\n",
    "            },\n",
    "            {\n",
    "              \"match\": {\n",
    "                \"movie_genre\": \"drama\"\n",
    "              }\n",
    "            }\n",
    "          ]\n",
    "        }\n",
    "    }\n",
    "}\n",
    "r = requests.get(url, json=search_json, headers=headers, auth = HTTPBasicAuth('*******', '*******'))\n",
    "response_dict = json.loads(r.text)\n",
    "print(response_dict)\n",
    "hits = response_dict['hits']['hits']\n",
    "print(len(hits))\n",
    "for h in hits:\n",
    "    print(h['_source'])"
   ]
  },
  {
   "cell_type": "code",
   "execution_count": 15,
   "metadata": {},
   "outputs": [
    {
     "data": {
      "text/plain": [
       "'{\"error\":{\"root_cause\":[{\"type\":\"index_not_found_exception\",\"reason\":\"no such index [movies]\",\"resource.type\":\"index_or_alias\",\"resource.id\":\"movies\",\"index_uuid\":\"_na_\",\"index\":\"movies\"}],\"type\":\"index_not_found_exception\",\"reason\":\"no such index [movies]\",\"resource.type\":\"index_or_alias\",\"resource.id\":\"movies\",\"index_uuid\":\"_na_\",\"index\":\"movies\"},\"status\":404}'"
      ]
     },
     "execution_count": 15,
     "metadata": {},
     "output_type": "execute_result"
    }
   ],
   "source": [
    "# delete all indices\n",
    "#host = 'https://search-movies-zhkkpomplgb457xjek35mxp5dy.us-west-2.es.amazonaws.com'\n",
    "#index = 'movies'\n",
    "#url = str(host + '/' + index)\n",
    "#r = requests.delete(url, auth = HTTPBasicAuth('SuperJerry', 'SuperJerry1!'))\n",
    "#r.text"
   ]
  }
 ],
 "metadata": {
  "kernelspec": {
   "display_name": "Python 3",
   "language": "python",
   "name": "python3"
  },
  "language_info": {
   "codemirror_mode": {
    "name": "ipython",
    "version": 3
   },
   "file_extension": ".py",
   "mimetype": "text/x-python",
   "name": "python",
   "nbconvert_exporter": "python",
   "pygments_lexer": "ipython3",
   "version": "3.7.4"
  }
 },
 "nbformat": 4,
 "nbformat_minor": 4
}
